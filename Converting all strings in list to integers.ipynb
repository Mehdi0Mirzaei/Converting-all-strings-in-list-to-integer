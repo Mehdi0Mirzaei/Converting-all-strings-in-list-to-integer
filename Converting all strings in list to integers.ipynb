{
 "cells": [
  {
   "cell_type": "code",
   "execution_count": 47,
   "id": "11ee4821",
   "metadata": {},
   "outputs": [],
   "source": [
    "def con_to_integers(lst):\n",
    "    return [eval (i) for i in lst]"
   ]
  },
  {
   "cell_type": "code",
   "execution_count": 48,
   "id": "9bbb9f65",
   "metadata": {},
   "outputs": [
    {
     "data": {
      "text/plain": [
       "[1, 2, 3, 4]"
      ]
     },
     "execution_count": 48,
     "metadata": {},
     "output_type": "execute_result"
    }
   ],
   "source": [
    "con_to_integers(['1','2','3','4'])"
   ]
  },
  {
   "cell_type": "code",
   "execution_count": 52,
   "id": "5e8049a3",
   "metadata": {},
   "outputs": [],
   "source": [
    "def con_to_int(lst):\n",
    "    for item in range(len(lst)):\n",
    "        lst[item]=int(lst[item])\n",
    "    print(\"Modified list is:\"+ str(lst))"
   ]
  },
  {
   "cell_type": "code",
   "execution_count": 53,
   "id": "628612f6",
   "metadata": {},
   "outputs": [
    {
     "name": "stdout",
     "output_type": "stream",
     "text": [
      "Modified list is:[1, 2, 3, 4]\n"
     ]
    }
   ],
   "source": [
    "con_to_int(['1','2','3','4'])"
   ]
  },
  {
   "cell_type": "code",
   "execution_count": 54,
   "id": "e4f441df",
   "metadata": {},
   "outputs": [
    {
     "name": "stdout",
     "output_type": "stream",
     "text": [
      "Modified list is : [1, 4, 3, 6, 7]\n"
     ]
    }
   ],
   "source": [
    "test_list = ['1', '4', '3', '6', '7']\n",
    " \n",
    "# using list comprehension to\n",
    "# perform conversion\n",
    "test_list = [int(i) for i in test_list]\n",
    "     \n",
    "# Printing modified list\n",
    "print (\"Modified list is : \" + str(test_list))"
   ]
  },
  {
   "cell_type": "code",
   "execution_count": 56,
   "id": "e256b1b6",
   "metadata": {},
   "outputs": [
    {
     "name": "stdout",
     "output_type": "stream",
     "text": [
      "Modified list is:  [1, 4, 4, 7, 7]\n"
     ]
    }
   ],
   "source": [
    "lis = ['1.1', '4', '3.5', '6.7', '7.2']\n",
    "res = [round(float(i)) for i in lis]\n",
    "print(\"Modified list is: \", res)"
   ]
  },
  {
   "cell_type": "code",
   "execution_count": null,
   "id": "d1231b9e",
   "metadata": {},
   "outputs": [],
   "source": []
  }
 ],
 "metadata": {
  "kernelspec": {
   "display_name": "Python 3 (ipykernel)",
   "language": "python",
   "name": "python3"
  },
  "language_info": {
   "codemirror_mode": {
    "name": "ipython",
    "version": 3
   },
   "file_extension": ".py",
   "mimetype": "text/x-python",
   "name": "python",
   "nbconvert_exporter": "python",
   "pygments_lexer": "ipython3",
   "version": "3.9.13"
  }
 },
 "nbformat": 4,
 "nbformat_minor": 5
}
